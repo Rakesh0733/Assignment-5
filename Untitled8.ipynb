{
  "nbformat": 4,
  "nbformat_minor": 0,
  "metadata": {
    "colab": {
      "name": "Untitled8.ipynb",
      "provenance": [],
      "authorship_tag": "ABX9TyOMOFrPfrbRJ3tVCQS8LhZi",
      "include_colab_link": true
    },
    "kernelspec": {
      "name": "python3",
      "display_name": "Python 3"
    }
  },
  "cells": [
    {
      "cell_type": "markdown",
      "metadata": {
        "id": "view-in-github",
        "colab_type": "text"
      },
      "source": [
        "<a href=\"https://colab.research.google.com/github/Rakesh0733/Assignment-5/blob/master/Untitled8.ipynb\" target=\"_parent\"><img src=\"https://colab.research.google.com/assets/colab-badge.svg\" alt=\"Open In Colab\"/></a>"
      ]
    },
    {
      "cell_type": "code",
      "metadata": {
        "id": "iFtUWqApX4TZ",
        "colab_type": "code",
        "colab": {}
      },
      "source": [
        ""
      ],
      "execution_count": null,
      "outputs": []
    },
    {
      "cell_type": "markdown",
      "metadata": {
        "id": "gBKnyyy3YFXS",
        "colab_type": "text"
      },
      "source": [
        "Question-1"
      ]
    },
    {
      "cell_type": "code",
      "metadata": {
        "id": "RP_QDUm4YGic",
        "colab_type": "code",
        "colab": {
          "base_uri": "https://localhost:8080/",
          "height": 68
        },
        "outputId": "371c90d6-e7a8-419d-cb50-92c4beb6cac9"
      },
      "source": [
        " a=int(input())\n",
        "b=int(input())\n",
        "print(a+b , a-b, a/b, a//b, a%b, a**b)"
      ],
      "execution_count": 1,
      "outputs": [
        {
          "output_type": "stream",
          "text": [
            "3\n",
            "6\n",
            "9 -3 0.5 0 3 729\n"
          ],
          "name": "stdout"
        }
      ]
    },
    {
      "cell_type": "markdown",
      "metadata": {
        "id": "f1uTZbzvYOjg",
        "colab_type": "text"
      },
      "source": [
        "Question-2"
      ]
    },
    {
      "cell_type": "code",
      "metadata": {
        "id": "q4Tw7fD2YPvd",
        "colab_type": "code",
        "colab": {
          "base_uri": "https://localhost:8080/",
          "height": 85
        },
        "outputId": "b09e8ba5-4db5-405f-b2ee-05ee36125ab6"
      },
      "source": [
        " p=int(input())\n",
        "t=int(input())\n",
        "r=int(input())\n",
        "print((p*t*r)/100)"
      ],
      "execution_count": 2,
      "outputs": [
        {
          "output_type": "stream",
          "text": [
            "5\n",
            "10\n",
            "5\n",
            "2.5\n"
          ],
          "name": "stdout"
        }
      ]
    },
    {
      "cell_type": "markdown",
      "metadata": {
        "id": "C8h8C332YeCn",
        "colab_type": "text"
      },
      "source": [
        "Question-3"
      ]
    },
    {
      "cell_type": "code",
      "metadata": {
        "id": "y-ungRGzYfNj",
        "colab_type": "code",
        "colab": {
          "base_uri": "https://localhost:8080/",
          "height": 51
        },
        "outputId": "7b424150-fc41-4399-f8d3-1d4d16e3d334"
      },
      "source": [
        " radius=float(input())\n",
        "print('area of circle is', 3.14*radius**2)"
      ],
      "execution_count": 3,
      "outputs": [
        {
          "output_type": "stream",
          "text": [
            "3\n",
            "area of circle is 28.26\n"
          ],
          "name": "stdout"
        }
      ]
    },
    {
      "cell_type": "markdown",
      "metadata": {
        "id": "ghWFsdHlYlo6",
        "colab_type": "text"
      },
      "source": [
        "Question-4"
      ]
    },
    {
      "cell_type": "code",
      "metadata": {
        "id": "DAPfPhj_YnQl",
        "colab_type": "code",
        "colab": {
          "base_uri": "https://localhost:8080/",
          "height": 68
        },
        "outputId": "6a3e6883-2238-4de8-aa8b-ab288416e3bc"
      },
      "source": [
        " breadth=int(input())\n",
        "length=int(input())\n",
        "print(\"area of triangle is\",(1/2)*breadth*length)"
      ],
      "execution_count": 4,
      "outputs": [
        {
          "output_type": "stream",
          "text": [
            "3\n",
            "5\n",
            "area of triangle is 7.5\n"
          ],
          "name": "stdout"
        }
      ]
    },
    {
      "cell_type": "markdown",
      "metadata": {
        "id": "_nhA5JRaYt6w",
        "colab_type": "text"
      },
      "source": [
        "Question-5"
      ]
    },
    {
      "cell_type": "code",
      "metadata": {
        "id": "hKftkVKAYvEO",
        "colab_type": "code",
        "colab": {
          "base_uri": "https://localhost:8080/",
          "height": 71
        },
        "outputId": "29f6cef3-4ef5-4227-8cde-7f8967bd5740"
      },
      "source": [
        " celsius=float(input())\n",
        "print('after conversion in Fahrenheit is', celsius*1.8+32)"
      ],
      "execution_count": 5,
      "outputs": [
        {
          "output_type": "stream",
          "text": [
            "37.5\n",
            "after conversion in Fahrenheit is 99.5\n"
          ],
          "name": "stdout"
        }
      ]
    },
    {
      "cell_type": "markdown",
      "metadata": {
        "id": "1zqtM_IRY4Is",
        "colab_type": "text"
      },
      "source": [
        "Question-6"
      ]
    },
    {
      "cell_type": "code",
      "metadata": {
        "id": "gNDsnEgnY6Rm",
        "colab_type": "code",
        "colab": {
          "base_uri": "https://localhost:8080/",
          "height": 68
        },
        "outputId": "5eed9c79-d093-4279-a16c-76975674c92f"
      },
      "source": [
        " length=int(input())\n",
        "breadth=int(input())\n",
        "print(\"area of rectangle is\",length*breadth)"
      ],
      "execution_count": 6,
      "outputs": [
        {
          "output_type": "stream",
          "text": [
            "3\n",
            "5\n",
            "area of rectangle is 15\n"
          ],
          "name": "stdout"
        }
      ]
    },
    {
      "cell_type": "markdown",
      "metadata": {
        "id": "r0huikBkZEnO",
        "colab_type": "text"
      },
      "source": [
        "Question-7"
      ]
    },
    {
      "cell_type": "code",
      "metadata": {
        "id": "wR800GkKZGLG",
        "colab_type": "code",
        "colab": {
          "base_uri": "https://localhost:8080/",
          "height": 68
        },
        "outputId": "cbc499a3-ecca-44fd-9d3e-00aa451882f1"
      },
      "source": [
        " a=int(input())\n",
        "b=int(input())\n",
        "temp=a\n",
        "a=b\n",
        "b=temp\n",
        "print(\"after swapping the values are\", a, b)"
      ],
      "execution_count": 7,
      "outputs": [
        {
          "output_type": "stream",
          "text": [
            "2\n",
            "4\n",
            "after swapping the values are 4 2\n"
          ],
          "name": "stdout"
        }
      ]
    }
  ]
}