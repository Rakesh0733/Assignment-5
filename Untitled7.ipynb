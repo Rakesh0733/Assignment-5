{
  "nbformat": 4,
  "nbformat_minor": 0,
  "metadata": {
    "colab": {
      "name": "Untitled7.ipynb",
      "provenance": [],
      "authorship_tag": "ABX9TyO/RnCZJfGUSyYqqctIGlQ6",
      "include_colab_link": true
    },
    "kernelspec": {
      "name": "python3",
      "display_name": "Python 3"
    }
  },
  "cells": [
    {
      "cell_type": "markdown",
      "metadata": {
        "id": "view-in-github",
        "colab_type": "text"
      },
      "source": [
        "<a href=\"https://colab.research.google.com/github/Rakesh0733/Assignment-5/blob/master/Untitled7.ipynb\" target=\"_parent\"><img src=\"https://colab.research.google.com/assets/colab-badge.svg\" alt=\"Open In Colab\"/></a>"
      ]
    },
    {
      "cell_type": "markdown",
      "metadata": {
        "id": "oVhPOHQhWU28",
        "colab_type": "text"
      },
      "source": [
        "Question-1"
      ]
    },
    {
      "cell_type": "code",
      "metadata": {
        "id": "po_rftLGWWjI",
        "colab_type": "code",
        "colab": {}
      },
      "source": [
        " f=open(\"file1.txt\",\"w\")\n",
        "f.write(\"\"\"Hi\n",
        "Hello\n",
        "How are you?\n",
        "You look good.Have a good day.\"\"\")\n",
        "f.close()"
      ],
      "execution_count": 5,
      "outputs": []
    },
    {
      "cell_type": "markdown",
      "metadata": {
        "id": "7d2FtQZgWbmr",
        "colab_type": "text"
      },
      "source": [
        "Question-2"
      ]
    },
    {
      "cell_type": "code",
      "metadata": {
        "id": "dFG3D9KqWdQz",
        "colab_type": "code",
        "colab": {
          "base_uri": "https://localhost:8080/",
          "height": 122
        },
        "outputId": "127cbe39-2811-4766-f8a2-1c67feb58f71"
      },
      "source": [
        " # Python program to read an entire text file.\n",
        " \n",
        "f = open(\"file1.txt\",\"r\")\n",
        "content = f.read()\n",
        "print(\"Content present in the file assignment.txt is\\n\",content)"
      ],
      "execution_count": 6,
      "outputs": [
        {
          "output_type": "stream",
          "text": [
            "Content present in the file assignment.txt is\n",
            " Hi\n",
            "Hello\n",
            "How are you?\n",
            "You look good.Have a good day.\n"
          ],
          "name": "stdout"
        }
      ]
    },
    {
      "cell_type": "markdown",
      "metadata": {
        "id": "-lNYpgbpWjvu",
        "colab_type": "text"
      },
      "source": [
        "Question-3"
      ]
    },
    {
      "cell_type": "code",
      "metadata": {
        "id": "YXmEiwlyWlJJ",
        "colab_type": "code",
        "colab": {
          "base_uri": "https://localhost:8080/",
          "height": 191
        },
        "outputId": "52456e05-68ee-429b-bf85-b275a472c305"
      },
      "source": [
        " # Python program to read first n lines of a file.\n",
        " \n",
        "f=open(\"file1.txt\",\"r\")\n",
        "n=int(input(\"Enter the number of lines you want to read: \"))\n",
        "print(\"The content present in the first\",n,\"lines present in the file is\\n:\")\n",
        "for i in range(n):\n",
        "    line=f.readline()\n",
        "    print(line)"
      ],
      "execution_count": 7,
      "outputs": [
        {
          "output_type": "stream",
          "text": [
            "Enter the number of lines you want to read: 3\n",
            "The content present in the first 3 lines present in the file is\n",
            ":\n",
            "Hi\n",
            "\n",
            "Hello\n",
            "\n",
            "How are you?\n",
            "\n"
          ],
          "name": "stdout"
        }
      ]
    },
    {
      "cell_type": "markdown",
      "metadata": {
        "id": "4ntwIfSbWyLq",
        "colab_type": "text"
      },
      "source": [
        "Question-4"
      ]
    },
    {
      "cell_type": "code",
      "metadata": {
        "id": "aSgNnb31WzpZ",
        "colab_type": "code",
        "colab": {
          "base_uri": "https://localhost:8080/",
          "height": 51
        },
        "outputId": "e2d7bbae-77bc-47b5-82c7-3888843f5c71"
      },
      "source": [
        " # Python program to append text to a file and display the text.\n",
        " \n",
        "def file_read(fname):\n",
        "        from itertools import islice\n",
        "        with open(fname, \"w\") as myfile:\n",
        "                myfile.write(\"Rakhi\\n\")\n",
        "                myfile.write(\"S/O Rocky\")\n",
        "        txt = open(fname)\n",
        "        print(txt.read())\n",
        "file_read('abc.txt')"
      ],
      "execution_count": 9,
      "outputs": [
        {
          "output_type": "stream",
          "text": [
            "Rakhi\n",
            "S/O Rocky\n"
          ],
          "name": "stdout"
        }
      ]
    },
    {
      "cell_type": "markdown",
      "metadata": {
        "id": "a-6tk2zlXCFb",
        "colab_type": "text"
      },
      "source": [
        "Question-5"
      ]
    },
    {
      "cell_type": "code",
      "metadata": {
        "id": "oyZTcZzyXDqj",
        "colab_type": "code",
        "colab": {
          "base_uri": "https://localhost:8080/",
          "height": 88
        },
        "outputId": "eb0e26c1-642a-463b-93a0-6d374d81a3a8"
      },
      "source": [
        " # Python program to read last n lines of a file.\n",
        " \n",
        "f=open(\"file1.txt\",\"r\")\n",
        "n=int(input(\"Enter the value of n to print the last lines: \"))\n",
        "last=f.readlines() [-n:]\n",
        "for line in last:\n",
        "    print(line, end ='')"
      ],
      "execution_count": 10,
      "outputs": [
        {
          "output_type": "stream",
          "text": [
            "Enter the value of n to print the last lines: 2\n",
            "How are you?\n",
            "You look good.Have a good day."
          ],
          "name": "stdout"
        }
      ]
    },
    {
      "cell_type": "markdown",
      "metadata": {
        "id": "5koo1objXNQY",
        "colab_type": "text"
      },
      "source": [
        "Question-6"
      ]
    },
    {
      "cell_type": "code",
      "metadata": {
        "id": "BGEdK7jZXPLz",
        "colab_type": "code",
        "colab": {
          "base_uri": "https://localhost:8080/",
          "height": 54
        },
        "outputId": "a67651b1-60bd-4cee-9143-d2896c390469"
      },
      "source": [
        " # Python program to read a file line by line store it into a variable.\n",
        " \n",
        "def file_read(fname):\n",
        "        with open (fname, \"r\") as myfile:\n",
        "                data=myfile.readlines()\n",
        "                print(data)\n",
        "file_read('file1.txt')"
      ],
      "execution_count": 11,
      "outputs": [
        {
          "output_type": "stream",
          "text": [
            "['Hi\\n', 'Hello\\n', 'How are you?\\n', 'You look good.Have a good day.']\n"
          ],
          "name": "stdout"
        }
      ]
    },
    {
      "cell_type": "markdown",
      "metadata": {
        "id": "H3ovDEu9XUgj",
        "colab_type": "text"
      },
      "source": [
        "Question-7"
      ]
    },
    {
      "cell_type": "code",
      "metadata": {
        "id": "aHDmQfd4XWZs",
        "colab_type": "code",
        "colab": {
          "base_uri": "https://localhost:8080/",
          "height": 54
        },
        "outputId": "04ef4838-e32d-4c42-8e4a-afdc086b461a"
      },
      "source": [
        " # Python program to read a file line by line and store it into a list.\n",
        " \n",
        "def file_read(fname):\n",
        "        with open(fname) as f:     \n",
        "                content_list = f.readlines()\n",
        "                print(content_list)\n",
        " \n",
        "file_read('file1.txt')"
      ],
      "execution_count": 12,
      "outputs": [
        {
          "output_type": "stream",
          "text": [
            "['Hi\\n', 'Hello\\n', 'How are you?\\n', 'You look good.Have a good day.']\n"
          ],
          "name": "stdout"
        }
      ]
    },
    {
      "cell_type": "markdown",
      "metadata": {
        "id": "CnzEdTKSXa77",
        "colab_type": "text"
      },
      "source": [
        "Question-8"
      ]
    },
    {
      "cell_type": "code",
      "metadata": {
        "id": "JF6IZ7NkXcim",
        "colab_type": "code",
        "colab": {
          "base_uri": "https://localhost:8080/",
          "height": 34
        },
        "outputId": "31e48e39-01e8-49c2-fdbb-9105fb426b39"
      },
      "source": [
        " # Python program to count the number of lines in a text file.\n",
        " \n",
        "def file_lengthy(fname):\n",
        "        with open(fname) as f:\n",
        "                for i, l in enumerate(f):\n",
        "                        pass\n",
        "        return i + 1\n",
        "print(\"Number of lines in the file: \",file_lengthy(\"file1.txt\"))"
      ],
      "execution_count": 13,
      "outputs": [
        {
          "output_type": "stream",
          "text": [
            "Number of lines in the file:  4\n"
          ],
          "name": "stdout"
        }
      ]
    },
    {
      "cell_type": "markdown",
      "metadata": {
        "id": "rq5Im6pPXhn1",
        "colab_type": "text"
      },
      "source": [
        "Question-9"
      ]
    },
    {
      "cell_type": "code",
      "metadata": {
        "id": "kCKRFj32Xiyx",
        "colab_type": "code",
        "colab": {
          "base_uri": "https://localhost:8080/",
          "height": 54
        },
        "outputId": "e96bdb61-535d-4df9-d2b9-acb02351ddc8"
      },
      "source": [
        " # Python program to get the file size of a plain file.\n",
        " \n",
        "def file_size(fname):\n",
        "        import os\n",
        "        statinfo = os.stat(fname)\n",
        "        return statinfo.st_size\n",
        " \n",
        "print(\"File size in bytes of a plain file: \",file_size(\"file1.txt\"))"
      ],
      "execution_count": 14,
      "outputs": [
        {
          "output_type": "stream",
          "text": [
            "File size in bytes of a plain file:  52\n"
          ],
          "name": "stdout"
        }
      ]
    },
    {
      "cell_type": "markdown",
      "metadata": {
        "id": "5v5KScneXny3",
        "colab_type": "text"
      },
      "source": [
        "Question-10"
      ]
    },
    {
      "cell_type": "code",
      "metadata": {
        "id": "nxSZYZXqXpgS",
        "colab_type": "code",
        "colab": {
          "base_uri": "https://localhost:8080/",
          "height": 35
        },
        "outputId": "78a06b76-c47e-45fa-bac5-43d5fcd4921b"
      },
      "source": [
        " # Python program to copy the contents of a file to another file.\n",
        " \n",
        "from shutil import copyfile\n",
        "copyfile('file1.txt', 'abc.txt')"
      ],
      "execution_count": 15,
      "outputs": [
        {
          "output_type": "execute_result",
          "data": {
            "application/vnd.google.colaboratory.intrinsic": {
              "type": "string"
            },
            "text/plain": [
              "'abc.txt'"
            ]
          },
          "metadata": {
            "tags": []
          },
          "execution_count": 15
        }
      ]
    }
  ]
}