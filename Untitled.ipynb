{
  "nbformat": 4,
  "nbformat_minor": 0,
  "metadata": {
    "colab": {
      "name": "Untitled",
      "provenance": [],
      "authorship_tag": "ABX9TyPyyb2WRUtUlq1O8b2BGh0o",
      "include_colab_link": true
    },
    "kernelspec": {
      "name": "python3",
      "display_name": "Python 3"
    }
  },
  "cells": [
    {
      "cell_type": "markdown",
      "metadata": {
        "id": "view-in-github",
        "colab_type": "text"
      },
      "source": [
        "<a href=\"https://colab.research.google.com/github/Rakesh0733/Assignment-5/blob/master/Untitled.ipynb\" target=\"_parent\"><img src=\"https://colab.research.google.com/assets/colab-badge.svg\" alt=\"Open In Colab\"/></a>"
      ]
    },
    {
      "cell_type": "code",
      "metadata": {
        "id": "ylHvFfMOxNQJ",
        "colab_type": "code",
        "colab": {}
      },
      "source": [
        ""
      ],
      "execution_count": null,
      "outputs": []
    },
    {
      "cell_type": "markdown",
      "metadata": {
        "id": "mLql6hwKxQL0",
        "colab_type": "text"
      },
      "source": [
        "Question-1"
      ]
    },
    {
      "cell_type": "code",
      "metadata": {
        "id": "WxEr6_hmxUgJ",
        "colab_type": "code",
        "colab": {
          "base_uri": "https://localhost:8080/",
          "height": 51
        },
        "outputId": "0ebdbfbe-8256-414a-b049-4a1005060c22"
      },
      "source": [
        "import math\n",
        "r=float(input(\"Enter the radius\"))\n",
        "area=math.pi*r*r\n",
        "print (area,\"The area is\")"
      ],
      "execution_count": null,
      "outputs": [
        {
          "output_type": "stream",
          "text": [
            "Enter the radius6.3\n",
            "124.68981242097887 The area is\n"
          ],
          "name": "stdout"
        }
      ]
    },
    {
      "cell_type": "markdown",
      "metadata": {
        "id": "Bkul7zUwymiZ",
        "colab_type": "text"
      },
      "source": [
        "Question-2"
      ]
    },
    {
      "cell_type": "code",
      "metadata": {
        "id": "qZayufCTyov1",
        "colab_type": "code",
        "colab": {
          "base_uri": "https://localhost:8080/",
          "height": 139
        },
        "outputId": "8a441beb-ffe0-44b6-b90f-e6049db0695d"
      },
      "source": [
        " from math import tan, pi\n",
        "n_sides = int(input(\"Input number of sides: \"))\n",
        "s_length = float(input(\"Input the length of a side: \"))\n",
        "p_area = n_sides * (s_length ** 2) / (4 * tan(pi / n_sides))\n",
        "print(\"The area of the polygon is: \",p_area)"
      ],
      "execution_count": 7,
      "outputs": [
        {
          "output_type": "stream",
          "text": [
            "Input number of sides: 6\n",
            "Input the length of a side: 4\n",
            "The area of the polygon is:  41.569219381653056\n",
            "Input number of sides: 4\n",
            "Input the length of a side: 4\n",
            "The area of the polygon is:  16.000000000000004\n"
          ],
          "name": "stdout"
        }
      ]
    },
    {
      "cell_type": "markdown",
      "metadata": {
        "id": "id3nL7cw1G6_",
        "colab_type": "text"
      },
      "source": [
        " Question_3"
      ]
    },
    {
      "cell_type": "code",
      "metadata": {
        "id": "m0Zube5w1JUs",
        "colab_type": "code",
        "colab": {
          "base_uri": "https://localhost:8080/",
          "height": 136
        },
        "outputId": "2c746b89-e5cc-4ca2-deb9-5f7e0cca19b7"
      },
      "source": [
        " import math\n",
        "print(\"sin 60\",math.sin(60))\n",
        "print(\"cos(pi)\",math.cos(pi))\n",
        "print(\"tap 90\",math.tan(90))\n",
        "print(\"5^8\",5**8)\n",
        "print(\"squrt 400\",math.sqrt(400))\n",
        "print(\"Floor\",math.floor(23.56))\n",
        "print(\"ceiling\",math.ceil(23.56))"
      ],
      "execution_count": 8,
      "outputs": [
        {
          "output_type": "stream",
          "text": [
            "sin 60 -0.3048106211022167\n",
            "cos(pi) -1.0\n",
            "tap 90 -1.995200412208242\n",
            "5^8 390625\n",
            "squrt 400 20.0\n",
            "Floor 23\n",
            "ceiling 24\n"
          ],
          "name": "stdout"
        }
      ]
    }
  ]
}