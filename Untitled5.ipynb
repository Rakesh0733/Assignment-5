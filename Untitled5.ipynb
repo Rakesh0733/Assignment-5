{
  "nbformat": 4,
  "nbformat_minor": 0,
  "metadata": {
    "colab": {
      "name": "Untitled5.ipynb",
      "provenance": [],
      "authorship_tag": "ABX9TyOTaT0Zz1YPu5hrvSNqpCBk",
      "include_colab_link": true
    },
    "kernelspec": {
      "name": "python3",
      "display_name": "Python 3"
    }
  },
  "cells": [
    {
      "cell_type": "markdown",
      "metadata": {
        "id": "view-in-github",
        "colab_type": "text"
      },
      "source": [
        "<a href=\"https://colab.research.google.com/github/Rakesh0733/Assignment-5/blob/master/Untitled5.ipynb\" target=\"_parent\"><img src=\"https://colab.research.google.com/assets/colab-badge.svg\" alt=\"Open In Colab\"/></a>"
      ]
    },
    {
      "cell_type": "code",
      "metadata": {
        "id": "1J8dUEX5GEBm",
        "colab_type": "code",
        "colab": {}
      },
      "source": [
        ""
      ],
      "execution_count": null,
      "outputs": []
    },
    {
      "cell_type": "markdown",
      "metadata": {
        "id": "t4RNOELUGIzv",
        "colab_type": "text"
      },
      "source": [
        " Question_1"
      ]
    },
    {
      "cell_type": "code",
      "metadata": {
        "id": "vBWQNwK4GN9v",
        "colab_type": "code",
        "colab": {
          "base_uri": "https://localhost:8080/",
          "height": 51
        },
        "outputId": "7f2fd5bf-65d7-425d-8822-547353768541"
      },
      "source": [
        " import math\n",
        "r=float(input(\"Enter the radius\"))\n",
        "area=math.pi*r*r\n",
        "print(area,\"The area is\")"
      ],
      "execution_count": 1,
      "outputs": [
        {
          "output_type": "stream",
          "text": [
            "Enter the radius5\n",
            "78.53981633974483 The area is\n"
          ],
          "name": "stdout"
        }
      ]
    },
    {
      "cell_type": "markdown",
      "metadata": {
        "id": "6ezQ_FvLGZKj",
        "colab_type": "text"
      },
      "source": [
        "Question_2"
      ]
    },
    {
      "cell_type": "code",
      "metadata": {
        "id": "tE-y7-3pGa3w",
        "colab_type": "code",
        "colab": {
          "base_uri": "https://localhost:8080/",
          "height": 88
        },
        "outputId": "8f40b525-a8ef-48a1-b044-a526cb8dc835"
      },
      "source": [
        " from math import tan, pi\n",
        "n_sides = int(input(\"Input number of sides: \"))\n",
        "s_length = float(input(\"Input the length of a side: \"))\n",
        "p_area = n_sides * (s_length ** 2) / (4 * tan(pi / n_sides))\n",
        "print(\"The area of the polygon is: \",p_area)"
      ],
      "execution_count": 2,
      "outputs": [
        {
          "output_type": "stream",
          "text": [
            "Input number of sides: 2\n",
            "Input the length of a side: 4\n",
            "The area of the polygon is:  4.898587196589413e-16\n"
          ],
          "name": "stdout"
        }
      ]
    },
    {
      "cell_type": "markdown",
      "metadata": {
        "id": "Ec_52IM_GiM2",
        "colab_type": "text"
      },
      "source": [
        "Question-3"
      ]
    },
    {
      "cell_type": "code",
      "metadata": {
        "id": "Pi634IHsGj2f",
        "colab_type": "code",
        "colab": {
          "base_uri": "https://localhost:8080/",
          "height": 136
        },
        "outputId": "9aa1a5da-f63b-4a00-c347-2907a886ef1e"
      },
      "source": [
        " import math\n",
        "pi=3.14159\n",
        "print(\"sin 60\",math.sin(60))\n",
        "print(\"cos(pi)\",math.cos(pi))\n",
        "print(\"tap 90\",math.tan(90))\n",
        "print(\"5^8\",5**8)\n",
        "print(\"squrt 400\",math.sqrt(400))\n",
        "print(\"Floor\",math.floor(23.56))\n",
        "print(\"ceiling\",math.ceil(23.56))"
      ],
      "execution_count": 3,
      "outputs": [
        {
          "output_type": "stream",
          "text": [
            "sin 60 -0.3048106211022167\n",
            "cos(pi) -0.9999999999964793\n",
            "tap 90 -1.995200412208242\n",
            "5^8 390625\n",
            "squrt 400 20.0\n",
            "Floor 23\n",
            "ceiling 24\n"
          ],
          "name": "stdout"
        }
      ]
    },
    {
      "cell_type": "markdown",
      "metadata": {
        "id": "wnc_p8rsG3Fz",
        "colab_type": "text"
      },
      "source": [
        "Question_4"
      ]
    },
    {
      "cell_type": "markdown",
      "metadata": {
        "id": "ar56579sHBXv",
        "colab_type": "text"
      },
      "source": [
        "Question-5"
      ]
    },
    {
      "cell_type": "code",
      "metadata": {
        "id": "cygfGXwUHDVf",
        "colab_type": "code",
        "colab": {
          "base_uri": "https://localhost:8080/",
          "height": 34
        },
        "outputId": "a5e48dea-e6d2-442b-ce84-1749f4445759"
      },
      "source": [
        " import random\n",
        " \n",
        "print(random.randint(1,10000))"
      ],
      "execution_count": 6,
      "outputs": [
        {
          "output_type": "stream",
          "text": [
            "2886\n"
          ],
          "name": "stdout"
        }
      ]
    }
  ]
}